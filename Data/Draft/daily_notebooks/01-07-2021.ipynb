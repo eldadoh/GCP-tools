{
 "cells": [
  {
   "cell_type": "code",
   "execution_count": 1,
   "metadata": {},
   "outputs": [
    {
     "data": {
      "text/plain": [
       "'01/07/2021'"
      ]
     },
     "execution_count": 1,
     "metadata": {},
     "output_type": "execute_result"
    }
   ],
   "source": [
    "%load_ext google.datalab.kernel\n",
    "%load_ext google.cloud.bigquery\n",
    "\n",
    "from datetime import date\n",
    "import os \n",
    "import subprocess\n",
    "import time \n",
    "from IPython.core.interactiveshell import InteractiveShell\n",
    "InteractiveShell.ast_node_interactivity = \"all\"\n",
    "\n",
    "today = date.today()\n",
    "d1 = today.strftime(\"%d/%m/%Y\")\n",
    "d1"
   ]
  },
  {
   "cell_type": "code",
   "execution_count": 3,
   "metadata": {},
   "outputs": [],
   "source": [
    "def parse_vm_csv(csv_filename):\n",
    "    \n",
    "    df = pd.read_csv(csv_filename)\n",
    "    df = df[['instance','zone']]\n",
    "    df = df.sort_values('instance',ascending=True)\n",
    "    df.to_csv('vm_parsed_data.csv')\n",
    "    \n",
    "    df_dict = df.to_dict()\n",
    "\n",
    "    insatnces = list(df_dict['instance'].values())\n",
    "    zones = list(df_dict['zone'].values())\n",
    "\n",
    "    return df, (insatnces,zones) \n",
    "\n",
    "\n",
    "def start_vm(instance_name_str,zone_str):\n",
    "    command = f'gcloud compute instances start --zone {zone_str}  {instance_name_str}'\n",
    "    os.system(command)\n",
    "\n",
    "def stop_vm(instance_name_str,zone_str):\n",
    "    command = f'gcloud compute instances stop --zone {zone_str}  {instance_name_str}'\n",
    "    os.system(command)\n",
    "    \n",
    "def ssh_login_and_run_commands_script(instance_name_str,zone_str ,project_name_str,script_name = r'./run_commands.sh'):\n",
    "    script_commands = subprocess.call([ 'bash' , script_name ])\n",
    "    #     script_commands = subprocess.call([ 'bash' , './' + script_name ])\n",
    "    # command = f'gcloud beta compute ssh --zone {zone_str} {instance_name_str}  --project {project_name_str} --command {script_commands}'\n",
    "    command = f'gcloud beta compute ssh --zone {zone_str} {instance_name_str}  --project {project_name_str} --command={script_commands}'\n",
    "    os.system(command)\n",
    "\n",
    "def run_one_vm_cycle(instance_name_str,zone_str ,project_name_str,script_name):\n",
    "\n",
    "    start_vm(instance_name_str,zone_str)\n",
    "    ssh_login_and_run_commands_script(instance_name_str,zone_str,project_name_str,script_name)\n",
    "    stop_vm(instance_name_str,zone_str)\n"
   ]
  },
  {
   "cell_type": "code",
   "execution_count": 4,
   "metadata": {},
   "outputs": [],
   "source": [
    "import pandas as pd\n",
    "\n",
    "vm_metadata_csv_path = '/home/arpalus/Work_Eldad/Arpalus_Code/Eldad-Local/Eldad-GCP/Data/vm_metadata.csv'\n",
    "df, _ = parse_vm_csv(vm_metadata_csv_path)"
   ]
  },
  {
   "cell_type": "code",
   "execution_count": 2,
   "metadata": {},
   "outputs": [
    {
     "ename": "NameError",
     "evalue": "name 'df' is not defined",
     "output_type": "error",
     "traceback": [
      "\u001b[0;31m---------------------------------------------------------------------------\u001b[0m",
      "\u001b[0;31mNameError\u001b[0m                                 Traceback (most recent call last)",
      "\u001b[0;32m<ipython-input-2-a7f85b36384d>\u001b[0m in \u001b[0;36m<module>\u001b[0;34m\u001b[0m\n\u001b[0;32m----> 1\u001b[0;31m \u001b[0mdf\u001b[0m \u001b[0;34m=\u001b[0m \u001b[0mdf\u001b[0m\u001b[0;34m.\u001b[0m\u001b[0mhead\u001b[0m\u001b[0;34m(\u001b[0m\u001b[0;36m50\u001b[0m\u001b[0;34m)\u001b[0m\u001b[0;34m\u001b[0m\u001b[0;34m\u001b[0m\u001b[0m\n\u001b[0m\u001b[1;32m      2\u001b[0m \u001b[0mdf\u001b[0m\u001b[0;34m.\u001b[0m\u001b[0mto_csv\u001b[0m\u001b[0;34m(\u001b[0m\u001b[0;34m'vm_parsed_data.csv'\u001b[0m\u001b[0;34m)\u001b[0m\u001b[0;34m\u001b[0m\u001b[0;34m\u001b[0m\u001b[0m\n",
      "\u001b[0;31mNameError\u001b[0m: name 'df' is not defined"
     ]
    }
   ],
   "source": [
    "df = df.head(50)\n",
    "df.to_csv('vm_parsed_data.csv')\n"
   ]
  },
  {
   "cell_type": "code",
   "execution_count": 6,
   "metadata": {},
   "outputs": [
    {
     "data": {
      "text/plain": [
       "{'instance-41': 'asia-east1-a',\n",
       " 'instance-42': 'asia-northeast1-c',\n",
       " 'instance-43': 'us-west4-a',\n",
       " 'instance-44': 'us-east1-d',\n",
       " 'instance-45': 'us-west1-a',\n",
       " 'instance-46': 'us-east1-c',\n",
       " 'instance-47': 'us-east4-b',\n",
       " 'instance-48': 'us-east1-d',\n",
       " 'instance-49': 'us-west1-b',\n",
       " 'instance-50': 'us-east4-b'}"
      ]
     },
     "execution_count": 6,
     "metadata": {},
     "output_type": "execute_result"
    }
   ],
   "source": [
    "# exp \n",
    "\n",
    "exp_df  = df.iloc[40:]\n",
    "exp_df = exp_df.reset_index()\n",
    "exp_df=exp_df.drop(['index'],axis=1)\n",
    "instances,zones = exp_df['instance'].to_list(),exp_df['zone'].to_list()\n",
    "vm_dict = {instance:zone for instance,zone in zip(instances,zones)}\n",
    "vm_dict"
   ]
  },
  {
   "cell_type": "code",
   "execution_count": 7,
   "metadata": {},
   "outputs": [],
   "source": [
    "PROJECT_NAME_STR = 'shelfauditdec19'\n",
    "SCRIPT_NAME = 'run_commands.sh'\n",
    "\n",
    "run_one_vm_cycle(instance_name_str = 'instance-41',zone_str = 'asia-east1-a' ,project_name_str=PROJECT_NAME_STR,script_name=SCRIPT_NAME)\n"
   ]
  },
  {
   "cell_type": "code",
   "execution_count": null,
   "metadata": {},
   "outputs": [],
   "source": []
  },
  {
   "cell_type": "code",
   "execution_count": null,
   "metadata": {},
   "outputs": [],
   "source": []
  },
  {
   "cell_type": "code",
   "execution_count": null,
   "metadata": {},
   "outputs": [],
   "source": []
  }
 ],
 "metadata": {
  "interpreter": {
   "hash": "31f2aee4e71d21fbe5cf8b01ff0e069b9275f58929596ceb00d14d90e3e16cd6"
  },
  "kernelspec": {
   "display_name": "Python 3",
   "language": "python",
   "name": "python3"
  },
  "language_info": {
   "codemirror_mode": {
    "name": "ipython",
    "version": 3
   },
   "file_extension": ".py",
   "mimetype": "text/x-python",
   "name": "python",
   "nbconvert_exporter": "python",
   "pygments_lexer": "ipython3",
   "version": "3.8.10"
  }
 },
 "nbformat": 4,
 "nbformat_minor": 2
}
